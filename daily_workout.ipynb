{
 "cells": [
  {
   "attachments": {},
   "cell_type": "markdown",
   "metadata": {},
   "source": [
    "## Daily Workout Plan (Losing Fat)"
   ]
  },
  {
   "attachments": {},
   "cell_type": "markdown",
   "metadata": {},
   "source": [
    "## Daily Workout Plan\n",
    "\n",
    "### Day 1: Upper Body\n",
    "\n",
    "- Warm-up: 5-10 minutes of light cardio\n",
    "- Push-ups: 3 sets of 10 reps\n",
    "- Dumbbell bench press: 3 sets of 12 reps\n",
    "- Seated dumbbell shoulder press: 3 sets of 12 reps\n",
    "- Bicep curls: 3 sets of 12 reps\n",
    "- Tricep pushdowns: 3 sets of 12 reps\n",
    "- Cool-down: 5-10 minutes of stretching\n",
    "\n",
    "### Day 2: Lower Body\n",
    "\n",
    "- Warm-up: 5-10 minutes of light cardio\n",
    "- Squats: 3 sets of 10 reps\n",
    "- Deadlifts: 3 sets of 12 reps\n",
    "- Lunges: 3 sets of 12 reps (each leg)\n",
    "- Leg press: 3 sets of 12 reps\n",
    "- Calf raises: 3 sets of 12 reps\n",
    "- Cool-down: 5-10 minutes of stretching\n",
    "\n",
    "### Day 3: Cardio\n",
    "\n",
    "- Warm-up: 5-10 minutes of light cardio\n",
    "- Run on the treadmill: 30 minutes at a moderate pace\n",
    "- Cool-down: 5-10 minutes of stretching\n",
    "\n",
    "### Day 4: Upper Body\n",
    "\n",
    "- Warm-up: 5-10 minutes of light cardio\n",
    "- Pull-ups: 3 sets of 10 reps\n",
    "- Bent-over rows: 3 sets of 12 reps\n",
    "- Lat pull-downs: 3 sets of 12 reps\n",
    "- Hammer curls: 3 sets of 12 reps\n",
    "- Skull crushers: 3 sets of 12 reps\n",
    "- Cool-down: 5-10 minutes of stretching\n",
    "\n",
    "### Day 5: Lower Body\n",
    "\n",
    "- Warm-up: 5-10 minutes of light cardio\n",
    "- Leg press: 3 sets of 10 reps\n",
    "- Leg curls: 3 sets of 12 reps\n",
    "- Leg extensions: 3 sets of 12 reps\n",
    "- Hip thrusts: 3 sets of 12 reps\n",
    "- Calf raises: 3 sets of 12 reps\n",
    "- Cool-down: 5-10 minutes of stretching\n",
    "\n",
    "### Day 6: Active Rest\n",
    "\n",
    "- Go for a walk, hike, or do another activity you enjoy to keep moving and active.\n"
   ]
  },
  {
   "attachments": {},
   "cell_type": "markdown",
   "metadata": {},
   "source": []
  },
  {
   "cell_type": "markdown",
   "metadata": {},
   "source": []
  }
 ],
 "metadata": {
  "language_info": {
   "name": "python"
  },
  "orig_nbformat": 4
 },
 "nbformat": 4,
 "nbformat_minor": 2
}
